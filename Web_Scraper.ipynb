{
 "cells": [
  {
   "cell_type": "code",
   "execution_count": null,
   "metadata": {},
   "outputs": [],
   "source": [
    "#Imports\n",
    "import time\n",
    "import sys\n",
    "from selenium.webdriver.common.by import By\n",
    "from selenium.webdriver.support.ui import WebDriverWait\n",
    "from selenium.webdriver.support import expected_conditions as EC\n",
    "from selenium import webdriver\n",
    "from bs4 import BeautifulSoup as bs"
   ]
  },
  {
   "cell_type": "code",
   "execution_count": null,
   "metadata": {},
   "outputs": [],
   "source": [
    "driver = webdriver.Chrome() \n",
    "#your URL goes here\n",
    "driver.get('https://www.myinsuranceclub.com/health-insurance/royal-sundaram-network-hospital-list')\n",
    "#static feild (number of pages)\n",
    "total = 455\n",
    "j=1\n",
    "while(j <= total):\n",
    "    rows =  WebDriverWait(driver,5).until(EC.presence_of_all_elements_located((By.CSS_SELECTOR, \"#hospital_all tr.odd, #hospital_all tr.even\")))\n",
    "\n",
    "    for row in rows:\n",
    "        soup = bs(row.get_attribute('outerHTML'), 'lxml')\n",
    "        titles = ';;'.join([x.text for x in soup.select('td')])\n",
    "        print(titles[:-2])\n",
    "        sys.stdout = open(\"royal-sundaram-network-hospital-list.txt\", \"a\")\n",
    "    #using selenium to iteriate pages by locating \"next page\" button\n",
    "    driver.find_element_by_xpath('//*[@id=\"hospital_all_next\"]').click()\n",
    "    #provide delay for the the pages to load\n",
    "    time.sleep(2)\n",
    "    j+=1"
   ]
  }
 ],
 "metadata": {
  "kernelspec": {
   "display_name": "Python 3",
   "language": "python",
   "name": "python3"
  },
  "language_info": {
   "codemirror_mode": {
    "name": "ipython",
    "version": 3
   },
   "file_extension": ".py",
   "mimetype": "text/x-python",
   "name": "python",
   "nbconvert_exporter": "python",
   "pygments_lexer": "ipython3",
   "version": "3.6.5"
  }
 },
 "nbformat": 4,
 "nbformat_minor": 2
}
